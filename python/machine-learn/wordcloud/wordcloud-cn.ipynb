{
 "cells": [
  {
   "cell_type": "code",
   "execution_count": null,
   "metadata": {},
   "outputs": [],
   "source": [
    "filename = \"yes-minister-cn.txt\"\n",
    "with open(filename) as f:\n",
    " mytext = f.read()\n",
    "import jieba\n",
    "mytext = \" \".join(jieba.cut(mytext))\n",
    "from wordcloud import WordCloud\n",
    "wordcloud = WordCloud(font_path=\"simsun.ttf\").generate(mytext)\n",
    "%pylab inline\n",
    "import matplotlib.pyplot as plt\n",
    "plt.imshow(wordcloud, interpolation='bilinear')\n",
    "plt.axis(\"off\")"
   ]
  }
 ],
 "metadata": {
  "kernelspec": {
   "display_name": "Python 3",
   "language": "python",
   "name": "python3"
  },
  "language_info": {
   "codemirror_mode": {
    "name": "ipython",
    "version": 3
   },
   "file_extension": ".py",
   "mimetype": "text/x-python",
   "name": "python",
   "nbconvert_exporter": "python",
   "pygments_lexer": "ipython3",
   "version": "3.7.4"
  }
 },
 "nbformat": 4,
 "nbformat_minor": 4
}
