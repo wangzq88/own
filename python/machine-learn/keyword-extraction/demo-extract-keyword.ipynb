{
 "cells": [
  {
   "cell_type": "code",
   "execution_count": 1,
   "metadata": {},
   "outputs": [],
   "source": [
    "from jieba.analyse import *"
   ]
  },
  {
   "cell_type": "code",
   "execution_count": 4,
   "metadata": {},
   "outputs": [],
   "source": [
    "with open('sample.txt','rt',encoding='utf-8') as f:\n",
    "    data = f.read()"
   ]
  },
  {
   "cell_type": "code",
   "execution_count": 5,
   "metadata": {},
   "outputs": [
    {
     "name": "stderr",
     "output_type": "stream",
     "text": [
      "Building prefix dict from the default dictionary ...\n",
      "Dumping model to file cache C:\\Users\\ADMINI~1\\AppData\\Local\\Temp\\jieba.cache\n",
      "Loading model cost 0.960 seconds.\n",
      "Prefix dict has been built successfully.\n"
     ]
    },
    {
     "name": "stdout",
     "output_type": "stream",
     "text": [
      "优步 0.28087559478179147\n",
      "司机 0.11995194759665198\n",
      "乘客 0.10548612948502202\n",
      "师傅 0.09588881078154185\n",
      "张师傅 0.08381623349632894\n",
      "目的地 0.07536185128863436\n",
      "网约车 0.07021889869544787\n",
      "姐姐 0.06834121277656388\n",
      "自己 0.06725331106610866\n",
      "上车 0.06232769163083701\n",
      "活儿 0.06001343542136564\n",
      "天津 0.05691580567920705\n",
      "10 0.0526641740215859\n",
      "开优步 0.0526641740215859\n",
      "事儿 0.04855445676703377\n",
      "李师傅 0.04850355019427313\n",
      "天津人 0.04826536860264317\n",
      "绕路 0.047824472309691626\n",
      "出租车 0.04484802607483113\n",
      "时候 0.044084029859148305\n"
     ]
    }
   ],
   "source": [
    "#使用TF-idf方式提取关键词和权重，并且依次显示出来。如果你不做特殊指定的话，默认显示数量为20个关键词。\n",
    "for keyword, weight in extract_tags(data, withWeight=True):\n",
    "    print('%s %s' % (keyword, weight))"
   ]
  },
  {
   "cell_type": "code",
   "execution_count": 7,
   "metadata": {},
   "outputs": [
    {
     "name": "stdout",
     "output_type": "stream",
     "text": [
      "优步 0.28087559478179147\n",
      "司机 0.11995194759665198\n",
      "乘客 0.10548612948502202\n",
      "师傅 0.09588881078154185\n",
      "张师傅 0.08381623349632894\n",
      "目的地 0.07536185128863436\n",
      "网约车 0.07021889869544787\n",
      "姐姐 0.06834121277656388\n",
      "自己 0.06725331106610866\n",
      "上车 0.06232769163083701\n"
     ]
    }
   ],
   "source": [
    "#如果你需要修改关键词数量，就需要指定topK参数。例如你要输出10个关键词，可以这样执行\n",
    "for keyword, weight in extract_tags(data, topK=10, withWeight=True):\n",
    "    print('%s %s' % (keyword, weight))"
   ]
  },
  {
   "cell_type": "code",
   "execution_count": 8,
   "metadata": {},
   "outputs": [
    {
     "name": "stdout",
     "output_type": "stream",
     "text": [
      "优步 1.0\n",
      "司机 0.7494059966484155\n",
      "乘客 0.5942845064572533\n",
      "姐姐 0.48545874199064\n",
      "天津 0.4511134903660482\n",
      "目的地 0.4294100274662929\n",
      "时候 0.41808386330346065\n",
      "作者 0.41690383815327287\n",
      "没有 0.3577645150520248\n",
      "活儿 0.2913715664937725\n",
      "上车 0.2770100138843037\n",
      "绕路 0.27460859208431115\n",
      "转载 0.2719329031862934\n",
      "出来 0.24258074539320906\n",
      "出租 0.2386398899911447\n",
      "事儿 0.22870032271337745\n",
      "单数 0.21345068036612438\n",
      "出租车 0.2120496654807952\n",
      "拉门 0.205816713636715\n",
      "跟着 0.205134709860173\n"
     ]
    }
   ],
   "source": [
    "#另一种关键词提取方式——TextRank\n",
    "for keyword, weight in textrank(data, withWeight=True):\n",
    "    print('%s %s' % (keyword, weight))"
   ]
  },
  {
   "cell_type": "code",
   "execution_count": null,
   "metadata": {},
   "outputs": [],
   "source": []
  }
 ],
 "metadata": {
  "kernelspec": {
   "display_name": "Python 3",
   "language": "python",
   "name": "python3"
  },
  "language_info": {
   "codemirror_mode": {
    "name": "ipython",
    "version": 3
   },
   "file_extension": ".py",
   "mimetype": "text/x-python",
   "name": "python",
   "nbconvert_exporter": "python",
   "pygments_lexer": "ipython3",
   "version": "3.7.4"
  }
 },
 "nbformat": 4,
 "nbformat_minor": 1
}
